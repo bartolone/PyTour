{
 "cells": [
  {
   "cell_type": "code",
   "execution_count": 1,
   "metadata": {},
   "outputs": [],
   "source": [
    "import pandas as pd\n",
    "import json\n",
    "import requests\n",
    "import math"
   ]
  },
  {
   "cell_type": "markdown",
   "metadata": {},
   "source": [
    "# SeatGeek\n",
    "\n",
    "The SeatGeek API is going to provide two key pieces of data: __artist genre__ and __venue score__.\n",
    "\n",
    "SeatGeek assigns artists to one of 21 __genres__, some of which don't have very many artists. Some we can combine into meaningful groupings for modeling, whereas others we'll have to ignore as they don't have enough artists for a useful model nor are they easily grouped with other genres.\n",
    "\n",
    "SeatGeek assigns each venue a __score__ -- SeatGeek's API documentation describes the scores as follows:\n",
    "\n",
    "_Most document types include a score field. The score field is used to indicate the document's relative popularity within its type. score is a floating point value in 0 <= score <= 1._\n",
    "\n",
    "_Currently score values for events, venues and performers are based on estimated sales volume on the secondary ticket market (normalized such that the most popular document has a score of 1)._\n",
    "\n",
    "SeatGeek's API also allows the user to pull a full list of artists in their database with a single API query. Because the Bandsintown API does not allow this (more on this later), I'm going to use the SeatGeek list of artists as our master list and use the list of SeatGeek artists to query the Bandsintown API. Therefore, I'll start with the full list of SeatGeek artists, including genre.\n",
    "\n",
    "__Note that my SeatGeek client_id is redacted from this file.__"
   ]
  },
  {
   "cell_type": "markdown",
   "metadata": {},
   "source": [
    "## SeatGeek Artist List, Including Genre\n",
    "\n",
    "As described above, I'm going to pull down a list of every artist in the SeatGeek database. Because SeatGeek includes non-musical events (such as sports), I'll limit this artist list to only those with an associated genre -- non-musical artists do not have an assigned genre in the SeatGeek database."
   ]
  },
  {
   "cell_type": "markdown",
   "metadata": {},
   "source": [
    "### Aritst genre helper functions"
   ]
  },
  {
   "cell_type": "code",
   "execution_count": 2,
   "metadata": {},
   "outputs": [],
   "source": [
    "def get_sg_bands_pagesnum():\n",
    "    \"\"\"\n",
    "    Queries the SeatGeek API to request the full list of performers in the database,\n",
    "    then determines the number of pages in the JSON file returned by the API call,\n",
    "    with 1000 performers per page. This is necessary for iterating through the returned\n",
    "    JSON file page-by-page to extract band information. Note that the value of 1000\n",
    "    performers per page is hard coded.\n",
    "    Output: the number of pages in the returned JSON file (1000 items per page)\n",
    "    \"\"\"\n",
    "    items_per_page = 1000\n",
    "    url = 'https://api.seatgeek.com/2/performers?format=json'\n",
    "    payload = {'per_page' : items_per_page,\n",
    "               'type' : 'band',\n",
    "               'client_id' : 'XXXX',\n",
    "              }\n",
    "    r = requests.get(url, params=payload,verify=True)\n",
    "    json_obj = json.loads(r.text)\n",
    "    return math.ceil(json_obj['meta']['total']/json_obj['meta']['per_page'])\n",
    "\n",
    "def json_primary_genre(band):\n",
    "    \"\"\"\n",
    "    The JSON file returned by the SeatGeek API can contain multiple genres for one performer,\n",
    "    however, only one genre is marked as the primary genre for that performer.\n",
    "    Output: the primary genre in the SeatGeek database for a given band.\n",
    "    \"\"\"\n",
    "    for item in band.get(\"genres\"):\n",
    "        if item.get('primary'):\n",
    "            return item.get('name')\n",
    "        \n",
    "def get_sg_bands_page(page=1):\n",
    "    \"\"\"\n",
    "    Requests a single page of results from the SeatGeek API query for the list of performers\n",
    "    and iterates through the JSON file to extract information about each band.\n",
    "    Because the SeatGeek database includes non-musical acts, this function only pulls the\n",
    "    information for performers with an associated genre. Note that the value of 1000 performers \n",
    "    per page is hard coded.\n",
    "    Output: a Pandas dataframe with each band's name, SeatGeek ID, genre, and SeatGeek score\n",
    "    for a single page of results within the SeatGeek database of bands.\n",
    "    \"\"\"\n",
    "    items_per_page = 1000\n",
    "    url = 'https://api.seatgeek.com/2/performers?format=json'\n",
    "    payload = {'per_page' : items_per_page,\n",
    "               'page' : page,\n",
    "               'type' : 'band',\n",
    "               'client_id' : 'XXXX',\n",
    "              }\n",
    "    r = requests.get(url, params=payload,verify=True)\n",
    "    json_obj = json.loads(r.text)\n",
    "    info_list = []\n",
    "    for item in json_obj['performers']:\n",
    "        # This next if statement only pulls in entries with associated genres, which excludes other events\n",
    "        # that for some reason come up as 'bands' in this search.\n",
    "        if item.get('genres'):\n",
    "            info_list.append(\n",
    "             {'name' : str(item.get('name',{})),\n",
    "              'id' : str(item.get('id',{})),\n",
    "              'genre' : str(json_primary_genre(item)),\n",
    "              'score' : str(item.get('score',{}))\n",
    "                               })\n",
    "    bands_df = pd.DataFrame(info_list)\n",
    "    return bands_df\n",
    "\n",
    "def get_all_sg_bands():\n",
    "    \"\"\"\n",
    "    Checks for the number of pages returned by a SeatGeek API query for the full list of\n",
    "    performers in the SeatGeek database, then iterates through the results, page by page.\n",
    "    Output: a Pandas dataframe with each band's name, SeatGeek ID, genre, and SeatGeek score\n",
    "    for the full SeatGeek database of bands.\n",
    "    \"\"\"\n",
    "    band_list = []\n",
    "    total_pages = get_sg_bands_pagesnum()\n",
    "    #Loop through the number pages of data and combine data into single dataframe\n",
    "    for pageNum in range(1,total_pages+1):\n",
    "        band_list.append(get_sg_bands_page(page=pageNum))\n",
    "    bands_df = pd.concat(band_list,axis=0)\n",
    "    return bands_df"
   ]
  },
  {
   "cell_type": "markdown",
   "metadata": {},
   "source": [
    "### Pull and save SeatGeek artist list"
   ]
  },
  {
   "cell_type": "code",
   "execution_count": 3,
   "metadata": {},
   "outputs": [
    {
     "name": "stdout",
     "output_type": "stream",
     "text": [
      "(44264, 4)\n"
     ]
    }
   ],
   "source": [
    "sg_bands_df = get_all_sg_bands()\n",
    "print(sg_bands_df.shape)"
   ]
  },
  {
   "cell_type": "code",
   "execution_count": 4,
   "metadata": {},
   "outputs": [
    {
     "name": "stdout",
     "output_type": "stream",
     "text": [
      "(39257, 4)\n"
     ]
    },
    {
     "data": {
      "text/html": [
       "<div>\n",
       "<style scoped>\n",
       "    .dataframe tbody tr th:only-of-type {\n",
       "        vertical-align: middle;\n",
       "    }\n",
       "\n",
       "    .dataframe tbody tr th {\n",
       "        vertical-align: top;\n",
       "    }\n",
       "\n",
       "    .dataframe thead th {\n",
       "        text-align: right;\n",
       "    }\n",
       "</style>\n",
       "<table border=\"1\" class=\"dataframe\">\n",
       "  <thead>\n",
       "    <tr style=\"text-align: right;\">\n",
       "      <th></th>\n",
       "      <th>genre</th>\n",
       "      <th>id</th>\n",
       "      <th>name</th>\n",
       "      <th>score</th>\n",
       "    </tr>\n",
       "  </thead>\n",
       "  <tbody>\n",
       "    <tr>\n",
       "      <th>0</th>\n",
       "      <td>Pop</td>\n",
       "      <td>35</td>\n",
       "      <td>Taylor Swift</td>\n",
       "      <td>0.89</td>\n",
       "    </tr>\n",
       "    <tr>\n",
       "      <th>1</th>\n",
       "      <td>Classic Rock</td>\n",
       "      <td>2597</td>\n",
       "      <td>The Rolling Stones</td>\n",
       "      <td>0.89</td>\n",
       "    </tr>\n",
       "    <tr>\n",
       "      <th>2</th>\n",
       "      <td>Pop</td>\n",
       "      <td>13546</td>\n",
       "      <td>Ed Sheeran</td>\n",
       "      <td>0.88</td>\n",
       "    </tr>\n",
       "    <tr>\n",
       "      <th>3</th>\n",
       "      <td>Classic Rock</td>\n",
       "      <td>696</td>\n",
       "      <td>Eric Clapton</td>\n",
       "      <td>0.88</td>\n",
       "    </tr>\n",
       "    <tr>\n",
       "      <th>4</th>\n",
       "      <td>Pop</td>\n",
       "      <td>16709</td>\n",
       "      <td>Charli XCX</td>\n",
       "      <td>0.87</td>\n",
       "    </tr>\n",
       "  </tbody>\n",
       "</table>\n",
       "</div>"
      ],
      "text/plain": [
       "          genre     id                name score\n",
       "0           Pop     35        Taylor Swift  0.89\n",
       "1  Classic Rock   2597  The Rolling Stones  0.89\n",
       "2           Pop  13546          Ed Sheeran  0.88\n",
       "3  Classic Rock    696        Eric Clapton  0.88\n",
       "4           Pop  16709          Charli XCX  0.87"
      ]
     },
     "execution_count": 4,
     "metadata": {},
     "output_type": "execute_result"
    }
   ],
   "source": [
    "# Drop duplicates\n",
    "sg_bands_df.drop_duplicates(subset='name',inplace=True)\n",
    "print(sg_bands_df.shape)\n",
    "sg_bands_df.head()"
   ]
  },
  {
   "cell_type": "code",
   "execution_count": null,
   "metadata": {},
   "outputs": [],
   "source": [
    "sg_bands_df.to_csv('sg_bands.csv')"
   ]
  },
  {
   "cell_type": "markdown",
   "metadata": {},
   "source": [
    "## SeatGeek Genre List\n",
    "\n",
    "For future reference, I'll pull the official list of genres from the SeatGeek API rather than rely on the genres within the artist list I've pulled in case there are any discrepancies."
   ]
  },
  {
   "cell_type": "code",
   "execution_count": 5,
   "metadata": {},
   "outputs": [],
   "source": [
    "def get_seatgeek_genrelist():\n",
    "    \"\"\"Queries the SeatGeek API to return a dataframe of possible artist genres.\"\"\"\n",
    "    r = requests.get('https://api.seatgeek.com/2/genres?client_id=XXXX')\n",
    "    json_obj = json.loads(r.text)\n",
    "    info_list = []\n",
    "    for item in json_obj['genres']:\n",
    "        info_list.append(\n",
    "         {'genre' : str(item.get('name',{}))     \n",
    "                               })\n",
    "    genre_df = pd.DataFrame(info_list)\n",
    "    return genre_df"
   ]
  },
  {
   "cell_type": "code",
   "execution_count": 6,
   "metadata": {},
   "outputs": [
    {
     "data": {
      "text/html": [
       "<div>\n",
       "<style scoped>\n",
       "    .dataframe tbody tr th:only-of-type {\n",
       "        vertical-align: middle;\n",
       "    }\n",
       "\n",
       "    .dataframe tbody tr th {\n",
       "        vertical-align: top;\n",
       "    }\n",
       "\n",
       "    .dataframe thead th {\n",
       "        text-align: right;\n",
       "    }\n",
       "</style>\n",
       "<table border=\"1\" class=\"dataframe\">\n",
       "  <thead>\n",
       "    <tr style=\"text-align: right;\">\n",
       "      <th></th>\n",
       "      <th>genre</th>\n",
       "    </tr>\n",
       "  </thead>\n",
       "  <tbody>\n",
       "    <tr>\n",
       "      <th>0</th>\n",
       "      <td>Country</td>\n",
       "    </tr>\n",
       "    <tr>\n",
       "      <th>1</th>\n",
       "      <td>Pop</td>\n",
       "    </tr>\n",
       "    <tr>\n",
       "      <th>2</th>\n",
       "      <td>Rock</td>\n",
       "    </tr>\n",
       "    <tr>\n",
       "      <th>3</th>\n",
       "      <td>Alternative</td>\n",
       "    </tr>\n",
       "    <tr>\n",
       "      <th>4</th>\n",
       "      <td>Indie</td>\n",
       "    </tr>\n",
       "    <tr>\n",
       "      <th>5</th>\n",
       "      <td>Punk</td>\n",
       "    </tr>\n",
       "    <tr>\n",
       "      <th>6</th>\n",
       "      <td>Blues</td>\n",
       "    </tr>\n",
       "    <tr>\n",
       "      <th>7</th>\n",
       "      <td>Soul</td>\n",
       "    </tr>\n",
       "    <tr>\n",
       "      <th>8</th>\n",
       "      <td>Folk</td>\n",
       "    </tr>\n",
       "    <tr>\n",
       "      <th>9</th>\n",
       "      <td>Jazz</td>\n",
       "    </tr>\n",
       "    <tr>\n",
       "      <th>10</th>\n",
       "      <td>Reggae</td>\n",
       "    </tr>\n",
       "    <tr>\n",
       "      <th>11</th>\n",
       "      <td>Classic Rock</td>\n",
       "    </tr>\n",
       "    <tr>\n",
       "      <th>12</th>\n",
       "      <td>Hard Rock</td>\n",
       "    </tr>\n",
       "    <tr>\n",
       "      <th>13</th>\n",
       "      <td>Electronic</td>\n",
       "    </tr>\n",
       "    <tr>\n",
       "      <th>14</th>\n",
       "      <td>Rnb</td>\n",
       "    </tr>\n",
       "    <tr>\n",
       "      <th>15</th>\n",
       "      <td>Hip-Hop</td>\n",
       "    </tr>\n",
       "    <tr>\n",
       "      <th>16</th>\n",
       "      <td>Rap</td>\n",
       "    </tr>\n",
       "    <tr>\n",
       "      <th>17</th>\n",
       "      <td>Funk</td>\n",
       "    </tr>\n",
       "    <tr>\n",
       "      <th>18</th>\n",
       "      <td>Latin</td>\n",
       "    </tr>\n",
       "    <tr>\n",
       "      <th>19</th>\n",
       "      <td>Classical</td>\n",
       "    </tr>\n",
       "    <tr>\n",
       "      <th>20</th>\n",
       "      <td>Techno</td>\n",
       "    </tr>\n",
       "  </tbody>\n",
       "</table>\n",
       "</div>"
      ],
      "text/plain": [
       "           genre\n",
       "0        Country\n",
       "1            Pop\n",
       "2           Rock\n",
       "3    Alternative\n",
       "4          Indie\n",
       "5           Punk\n",
       "6          Blues\n",
       "7           Soul\n",
       "8           Folk\n",
       "9           Jazz\n",
       "10        Reggae\n",
       "11  Classic Rock\n",
       "12     Hard Rock\n",
       "13    Electronic\n",
       "14           Rnb\n",
       "15       Hip-Hop\n",
       "16           Rap\n",
       "17          Funk\n",
       "18         Latin\n",
       "19     Classical\n",
       "20        Techno"
      ]
     },
     "execution_count": 6,
     "metadata": {},
     "output_type": "execute_result"
    }
   ],
   "source": [
    "get_seatgeek_genrelist()"
   ]
  },
  {
   "cell_type": "markdown",
   "metadata": {},
   "source": [
    "## SeatGeek Venue Scores\n",
    "\n",
    "The other piece of information I need from SeatGeek is the __venue score__, which, as described above, is a measure of relative popularity. As with the artist list, fortunately for me, the SeatGeek API allows me to pull down all of the venues in its database, along with their scores, with a single API call."
   ]
  },
  {
   "cell_type": "markdown",
   "metadata": {},
   "source": [
    "### Venue score helper functions"
   ]
  },
  {
   "cell_type": "code",
   "execution_count": 7,
   "metadata": {},
   "outputs": [],
   "source": [
    "def get_sg_venues_pagesnum():\n",
    "    \"\"\"\n",
    "    Queries the SeatGeek API to request the full list of venues in the database,\n",
    "    then determines the number of pages in the JSON file returned by the API call,\n",
    "    with 1000 venues per page. This is necessary for iterating through the returned\n",
    "    JSON file page-by-page to extract venue information. Note that the value of 1000\n",
    "    performers per page is hard coded.\n",
    "    Output: the number of pages in the returned JSON file (1000 items per page)\n",
    "    \"\"\"\n",
    "    items_per_page = 1000\n",
    "    url = 'https://api.seatgeek.com/2/venues?format=json'\n",
    "    payload = {'per_page' : items_per_page,\n",
    "               'client_id': 'XXXX',\n",
    "              }\n",
    "    r = requests.get(url, params=payload,verify=True)\n",
    "    json_obj = json.loads(r.text)\n",
    "    return math.ceil(json_obj['meta']['total']/json_obj['meta']['per_page'])\n",
    "\n",
    "def get_sg_venues_page(page=1):\n",
    "     \"\"\"\n",
    "    Requests a single page of results from the SeatGeek API query for the list of venues\n",
    "    and iterates through the JSON file to extract information about each venue. Note that \n",
    "    the value of 1000 performers per page is hard coded.\n",
    "    Output: a Pandas dataframe with each venue's SeatGeek ID, name, city, state, country,\n",
    "    and score, for a single page of results within the SeatGeek database of venues.\n",
    "    \"\"\"\n",
    "    items_per_page = 1000\n",
    "    url = 'https://api.seatgeek.com/2/venues?format=json'\n",
    "    payload = {'per_page' : items_per_page,\n",
    "               'page' : page,\n",
    "               'client_id' : 'XXXX',\n",
    "              }\n",
    "    r = requests.get(url, params=payload,verify=True)\n",
    "    json_obj = json.loads(r.text)\n",
    "    info_list = []\n",
    "    for item in json_obj['venues']:\n",
    "        info_list.append(\n",
    "         {'sg_venue_id' : str(item.get('id',{})),\n",
    "         'venue_name' : str(item.get('name',{})),\n",
    "         'venue_city' : str(item.get('city',{})),\n",
    "         'venue_state' : str(item.get('state',{})),\n",
    "         'venue_score' : str(item.get('score',{})),\n",
    "         'venue_country' : str(item.get('country',{})), \n",
    "                               })    \n",
    "    venues_df = pd.DataFrame(info_list)\n",
    "    return venues_df\n",
    "\n",
    "def get_all_sg_venues():\n",
    "    \"\"\"\n",
    "    Checks for the number of pages returned by a SeatGeek API query for the full list of\n",
    "    venues in the SeatGeek database, then iterates through the results, page by page.\n",
    "    Output: a Pandas dataframe with each venue's SeatGeek ID, name, city, state, country,\n",
    "    and score, for the full SeatGeek database of venues.\n",
    "    \"\"\"\n",
    "    venue_list = []\n",
    "    total_pages = get_sg_venues_pagesnum()\n",
    "    #Loop through the number pages of data and combine data into single dataframe\n",
    "    for pageNum in range(1,total_pages+1):\n",
    "        venue_list.append(get_sg_venues_page(page=pageNum))\n",
    "    venues_df = pd.concat(venue_list,axis=0)\n",
    "    return venues_df"
   ]
  },
  {
   "cell_type": "markdown",
   "metadata": {},
   "source": [
    "### Pull and save SeatGeek venue list"
   ]
  },
  {
   "cell_type": "code",
   "execution_count": 8,
   "metadata": {},
   "outputs": [
    {
     "name": "stdout",
     "output_type": "stream",
     "text": [
      "(391237, 6)\n"
     ]
    }
   ],
   "source": [
    "sg_venues_df = get_all_sg_venues()\n",
    "print(sg_venues_df.shape)\n",
    "sg_venues_df.head()"
   ]
  },
  {
   "cell_type": "code",
   "execution_count": null,
   "metadata": {},
   "outputs": [],
   "source": [
    "sg_venues_df.to_csv('sg_venues.csv')"
   ]
  },
  {
   "cell_type": "markdown",
   "metadata": {},
   "source": [
    "# Bandsintown\n",
    "\n",
    "The Bandsintown API provides us with information about gigs played by any given artist. I'll run two sets of queries, first a __list of gigs (by artist)__ for all of the artists I got from SeatGeek, then I need to pull down __Bandsintown artist information__ for each SeatGeek artist so that I can merge the artist and gig information on each artist's Bandsintown ID.\n",
    "\n",
    "Unlike SeatGeek, Bandsintown does not provide a full list of artists or gigs with a single API call; for that reason I need to call it individually for each artist in the SeatGeek artist list, by name. This takes quite a bit of time (12-24 hours for each set of API calls on my MacBook).\n",
    "\n",
    "__Note that my Bandsintown app_id is redacted from this file.__"
   ]
  },
  {
   "cell_type": "markdown",
   "metadata": {},
   "source": [
    "## Bandsintown Artist Events (Gigs)\n",
    "\n",
    "I'll take the full list of SeatGeek artists as derived above and query the Bandsintown API to get the full set of events in their database for that artist. Unfortunately this needs to be done individually for each artist."
   ]
  },
  {
   "cell_type": "markdown",
   "metadata": {},
   "source": [
    "### Artist gig list helper function"
   ]
  },
  {
   "cell_type": "code",
   "execution_count": null,
   "metadata": {},
   "outputs": [],
   "source": [
    "def get_all_artist_events(artist_list):\n",
    "    \"\"\"\n",
    "    Takes a list of artists and queries the Bandsintown API to get the list of events for each\n",
    "    artist in the Bandsintown database.\n",
    "    Output: a Pandas dataframe with all gigs associated with artists in the input list, including\n",
    "    the gig's Bandsintown event ID, associated artist ID, event date, and venue name, city, state,\n",
    "    and country.\n",
    "    \"\"\"\n",
    "    gigs_list = []\n",
    "    for band in artist_list:    \n",
    "        r = requests.get('https://rest.bandsintown.com/artists/{}/events?app_id=XXXX&date=all'.format(band))\n",
    "        # Processing the returned JSON file results in an error if the band is not found.\n",
    "        try:\n",
    "            json_obj = json.loads(r.text)\n",
    "            show_list = []\n",
    "            for show in json_obj:\n",
    "                show_list.append(\n",
    "                 {'BIT_event_id' : str(show.get('id',{})),\n",
    "                 'BIT_artist_id' : str(show.get('artist_id',{})),\n",
    "                 'BIT_event_date' : str(show.get('datetime',{})),\n",
    "                 'BIT_venue_country' : str(show.get('venue').get('country',{})),\n",
    "                 'BIT_venue_city' : str(show.get('venue').get('city',{})),\n",
    "                 'BIT_venue_name' : str(show.get('venue').get('name',{})),         \n",
    "                 'BIT_venue_state' : str(show.get('venue').get('region',{}))        \n",
    "                                   })\n",
    "            show_df = pd.DataFrame(show_list)\n",
    "            gigs_list.append(show_df)\n",
    "        # Skip the band if it is not found in the Bandsintown database:\n",
    "        except:\n",
    "            continue\n",
    "        all_gigs = pd.concat(gigs_list,axis=0)\n",
    "        return all_gigs"
   ]
  },
  {
   "cell_type": "markdown",
   "metadata": {},
   "source": [
    "### Pull and save Bandsintown list of gigs by artist"
   ]
  },
  {
   "cell_type": "code",
   "execution_count": null,
   "metadata": {},
   "outputs": [],
   "source": [
    "SG_artist_list = sg_bands_df['name'].tolist()"
   ]
  },
  {
   "cell_type": "code",
   "execution_count": null,
   "metadata": {},
   "outputs": [],
   "source": [
    "all_gigs_df = get_all_artist_events(SG_artist_list)\n",
    "print(all_gigs_df.shape)\n",
    "all_gigs_df.head()"
   ]
  },
  {
   "cell_type": "code",
   "execution_count": null,
   "metadata": {},
   "outputs": [],
   "source": [
    "all_gigs_df.to_csv('all_gigs.csv')"
   ]
  },
  {
   "cell_type": "markdown",
   "metadata": {},
   "source": [
    "## Bandsintown artist information\n",
    "\n",
    "In addition to the gig list, we can pull additional information for each artist from Bandsintown, including their tracker count (the number of Bandsintown users following that band, which should be a decent measure of popularity)."
   ]
  },
  {
   "cell_type": "markdown",
   "metadata": {},
   "source": [
    "### Bandsintown artist information helper function"
   ]
  },
  {
   "cell_type": "code",
   "execution_count": null,
   "metadata": {},
   "outputs": [],
   "source": [
    "def get_all_artist_info(artist_list):\n",
    "    \"\"\"\n",
    "    Takes a list of artists and queries the Bandsintown API to get information about each artist\n",
    "    from the Bandsintown database.\n",
    "    Output: a Pandas dataframe with the artist's name, Bandsintown artist ID, and tracker count\n",
    "    (the number of Bandsintown users following the artist).\n",
    "    \"\"\"\n",
    "    artist_info_list = []\n",
    "    for band in sg_bands_df['name'].tolist():    \n",
    "        r = requests.get('https://rest.bandsintown.com/artists/{}?app_id=XXXX&date=all'.format(band))\n",
    "        # Processing the returned JSON file results in an error if the band is not found.\n",
    "        try:\n",
    "            json_obj = json.loads(r.text)\n",
    "            info_list = []\n",
    "            info_list.append(\n",
    "                {'BIT_artist_name' : str(json_obj.get('name',{})),\n",
    "                 'BIT_tracker_count' : str(json_obj.get('tracker_count',{})),\n",
    "                 'BIT_artist_id' : str(json_obj.get('id',{}))      \n",
    "                                       })\n",
    "            artist_df = pd.DataFrame(info_list)\n",
    "            artist_info_list.append(artist_df)\n",
    "        # Skip the band if it is not found in the Bandsintown database:\n",
    "        except:\n",
    "            continue\n",
    "        all_artist_info = pd.concat(artist_info_list,axis=0)\n",
    "        return all_artist_info"
   ]
  },
  {
   "cell_type": "markdown",
   "metadata": {},
   "source": [
    "### Pull and save Bandsintown artist information"
   ]
  },
  {
   "cell_type": "code",
   "execution_count": null,
   "metadata": {},
   "outputs": [],
   "source": [
    "artist_info_df = get_all_artist_info(SG_artist_list)\n",
    "print(artist_info_df.shape)\n",
    "artist_info_df.head()"
   ]
  },
  {
   "cell_type": "code",
   "execution_count": null,
   "metadata": {},
   "outputs": [],
   "source": [
    "artist_info_df.to_csv('BIT_artist_info.csv')"
   ]
  },
  {
   "cell_type": "markdown",
   "metadata": {},
   "source": [
    "# Next step: merging files\n",
    "\n",
    "Please see the next notebook in the series for code that merges the information from these four files into a single file for modeling."
   ]
  }
 ],
 "metadata": {
  "kernelspec": {
   "display_name": "Python 3",
   "language": "python",
   "name": "python3"
  },
  "language_info": {
   "codemirror_mode": {
    "name": "ipython",
    "version": 3
   },
   "file_extension": ".py",
   "mimetype": "text/x-python",
   "name": "python",
   "nbconvert_exporter": "python",
   "pygments_lexer": "ipython3",
   "version": "3.6.6"
  },
  "toc": {
   "base_numbering": 1,
   "nav_menu": {},
   "number_sections": true,
   "sideBar": true,
   "skip_h1_title": false,
   "title_cell": "Table of Contents",
   "title_sidebar": "Contents",
   "toc_cell": false,
   "toc_position": {},
   "toc_section_display": true,
   "toc_window_display": false
  },
  "varInspector": {
   "cols": {
    "lenName": 16,
    "lenType": 16,
    "lenVar": 40
   },
   "kernels_config": {
    "python": {
     "delete_cmd_postfix": "",
     "delete_cmd_prefix": "del ",
     "library": "var_list.py",
     "varRefreshCmd": "print(var_dic_list())"
    },
    "r": {
     "delete_cmd_postfix": ") ",
     "delete_cmd_prefix": "rm(",
     "library": "var_list.r",
     "varRefreshCmd": "cat(var_dic_list()) "
    }
   },
   "types_to_exclude": [
    "module",
    "function",
    "builtin_function_or_method",
    "instance",
    "_Feature"
   ],
   "window_display": false
  }
 },
 "nbformat": 4,
 "nbformat_minor": 2
}
