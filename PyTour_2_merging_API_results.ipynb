{
 "cells": [
  {
   "cell_type": "code",
   "execution_count": 1,
   "metadata": {},
   "outputs": [],
   "source": [
    "import pandas as pd"
   ]
  },
  {
   "cell_type": "markdown",
   "metadata": {},
   "source": [
    "# First merge -- Combine SeatGeek and Bandsintown Artist Information\n",
    "\n",
    "The Bandsintown artist info is already a subset of the SeatGeek artist info, since I used the list of bands from SeatGeek to pull artist information from Bandsintown. Therefore, I'll begin by merging the SeatGeek information into the Bandsintown artist information. Furthermore, I know these match on artist name because that is what I used to pull information from Bandsintown."
   ]
  },
  {
   "cell_type": "code",
   "execution_count": 2,
   "metadata": {},
   "outputs": [],
   "source": [
    "BIT_artist_df = pd.read_csv(\"BIT_artist_info.csv\")\n",
    "BIT_artist_df.drop(['Unnamed: 0'], axis=1, inplace=True)"
   ]
  },
  {
   "cell_type": "code",
   "execution_count": 3,
   "metadata": {},
   "outputs": [],
   "source": [
    "SG_artist_df = pd.read_csv(\"sg_bands.csv\")\n",
    "SG_artist_df.drop(['Unnamed: 0'], axis=1, inplace=True)"
   ]
  },
  {
   "cell_type": "code",
   "execution_count": 4,
   "metadata": {},
   "outputs": [
    {
     "data": {
      "text/html": [
       "<div>\n",
       "<style scoped>\n",
       "    .dataframe tbody tr th:only-of-type {\n",
       "        vertical-align: middle;\n",
       "    }\n",
       "\n",
       "    .dataframe tbody tr th {\n",
       "        vertical-align: top;\n",
       "    }\n",
       "\n",
       "    .dataframe thead th {\n",
       "        text-align: right;\n",
       "    }\n",
       "</style>\n",
       "<table border=\"1\" class=\"dataframe\">\n",
       "  <thead>\n",
       "    <tr style=\"text-align: right;\">\n",
       "      <th></th>\n",
       "      <th>BIT_artist_id</th>\n",
       "      <th>BIT_artist_name</th>\n",
       "      <th>BIT_tracker_count</th>\n",
       "    </tr>\n",
       "  </thead>\n",
       "  <tbody>\n",
       "    <tr>\n",
       "      <th>0</th>\n",
       "      <td>157</td>\n",
       "      <td>Taylor Swift</td>\n",
       "      <td>5703387</td>\n",
       "    </tr>\n",
       "    <tr>\n",
       "      <th>1</th>\n",
       "      <td>190899</td>\n",
       "      <td>Ed Sheeran</td>\n",
       "      <td>4293012</td>\n",
       "    </tr>\n",
       "    <tr>\n",
       "      <th>2</th>\n",
       "      <td>289995</td>\n",
       "      <td>Charli XCX</td>\n",
       "      <td>643712</td>\n",
       "    </tr>\n",
       "    <tr>\n",
       "      <th>3</th>\n",
       "      <td>46025</td>\n",
       "      <td>\"Honda Civic Tour\"</td>\n",
       "      <td>899</td>\n",
       "    </tr>\n",
       "    <tr>\n",
       "      <th>4</th>\n",
       "      <td>2639</td>\n",
       "      <td>Eric Clapton</td>\n",
       "      <td>1388530</td>\n",
       "    </tr>\n",
       "  </tbody>\n",
       "</table>\n",
       "</div>"
      ],
      "text/plain": [
       "  BIT_artist_id     BIT_artist_name BIT_tracker_count\n",
       "0           157        Taylor Swift           5703387\n",
       "1        190899          Ed Sheeran           4293012\n",
       "2        289995          Charli XCX            643712\n",
       "3         46025  \"Honda Civic Tour\"               899\n",
       "4          2639        Eric Clapton           1388530"
      ]
     },
     "execution_count": 4,
     "metadata": {},
     "output_type": "execute_result"
    }
   ],
   "source": [
    "BIT_artist_df.head()"
   ]
  },
  {
   "cell_type": "code",
   "execution_count": 5,
   "metadata": {},
   "outputs": [
    {
     "data": {
      "text/html": [
       "<div>\n",
       "<style scoped>\n",
       "    .dataframe tbody tr th:only-of-type {\n",
       "        vertical-align: middle;\n",
       "    }\n",
       "\n",
       "    .dataframe tbody tr th {\n",
       "        vertical-align: top;\n",
       "    }\n",
       "\n",
       "    .dataframe thead th {\n",
       "        text-align: right;\n",
       "    }\n",
       "</style>\n",
       "<table border=\"1\" class=\"dataframe\">\n",
       "  <thead>\n",
       "    <tr style=\"text-align: right;\">\n",
       "      <th></th>\n",
       "      <th>genre</th>\n",
       "      <th>id</th>\n",
       "      <th>name</th>\n",
       "      <th>score</th>\n",
       "    </tr>\n",
       "  </thead>\n",
       "  <tbody>\n",
       "    <tr>\n",
       "      <th>0</th>\n",
       "      <td>Pop</td>\n",
       "      <td>35</td>\n",
       "      <td>Taylor Swift</td>\n",
       "      <td>0.88</td>\n",
       "    </tr>\n",
       "    <tr>\n",
       "      <th>1</th>\n",
       "      <td>Pop</td>\n",
       "      <td>13546</td>\n",
       "      <td>Ed Sheeran</td>\n",
       "      <td>0.87</td>\n",
       "    </tr>\n",
       "    <tr>\n",
       "      <th>2</th>\n",
       "      <td>Pop</td>\n",
       "      <td>16709</td>\n",
       "      <td>Charli XCX</td>\n",
       "      <td>0.87</td>\n",
       "    </tr>\n",
       "    <tr>\n",
       "      <th>3</th>\n",
       "      <td>Rock</td>\n",
       "      <td>10379</td>\n",
       "      <td>Honda Civic Tour</td>\n",
       "      <td>0.87</td>\n",
       "    </tr>\n",
       "    <tr>\n",
       "      <th>4</th>\n",
       "      <td>Classic Rock</td>\n",
       "      <td>696</td>\n",
       "      <td>Eric Clapton</td>\n",
       "      <td>0.86</td>\n",
       "    </tr>\n",
       "  </tbody>\n",
       "</table>\n",
       "</div>"
      ],
      "text/plain": [
       "          genre     id              name  score\n",
       "0           Pop     35      Taylor Swift   0.88\n",
       "1           Pop  13546        Ed Sheeran   0.87\n",
       "2           Pop  16709        Charli XCX   0.87\n",
       "3          Rock  10379  Honda Civic Tour   0.87\n",
       "4  Classic Rock    696      Eric Clapton   0.86"
      ]
     },
     "execution_count": 5,
     "metadata": {},
     "output_type": "execute_result"
    }
   ],
   "source": [
    "SG_artist_df.head()"
   ]
  },
  {
   "cell_type": "code",
   "execution_count": 6,
   "metadata": {},
   "outputs": [
    {
     "name": "stdout",
     "output_type": "stream",
     "text": [
      "(38782, 3)\n",
      "(43329, 4)\n"
     ]
    }
   ],
   "source": [
    "print(BIT_artist_df.shape)\n",
    "print(SG_artist_df.shape)"
   ]
  },
  {
   "cell_type": "code",
   "execution_count": 7,
   "metadata": {},
   "outputs": [],
   "source": [
    "all_artist_df = pd.merge(BIT_artist_df, SG_artist_df, how='left', left_on='BIT_artist_name',\n",
    "                         right_on='name', sort=False)"
   ]
  },
  {
   "cell_type": "markdown",
   "metadata": {},
   "source": [
    "We no longer need the SeatGeek artist ID or name, and I'll rename the SG artist score column for clarity. Furthermore, we need to remove duplicate artists prior to merging."
   ]
  },
  {
   "cell_type": "code",
   "execution_count": 8,
   "metadata": {},
   "outputs": [
    {
     "name": "stdout",
     "output_type": "stream",
     "text": [
      "(38223, 5)\n"
     ]
    },
    {
     "data": {
      "text/html": [
       "<div>\n",
       "<style scoped>\n",
       "    .dataframe tbody tr th:only-of-type {\n",
       "        vertical-align: middle;\n",
       "    }\n",
       "\n",
       "    .dataframe tbody tr th {\n",
       "        vertical-align: top;\n",
       "    }\n",
       "\n",
       "    .dataframe thead th {\n",
       "        text-align: right;\n",
       "    }\n",
       "</style>\n",
       "<table border=\"1\" class=\"dataframe\">\n",
       "  <thead>\n",
       "    <tr style=\"text-align: right;\">\n",
       "      <th></th>\n",
       "      <th>BIT_artist_id</th>\n",
       "      <th>BIT_artist_name</th>\n",
       "      <th>BIT_tracker_count</th>\n",
       "      <th>genre</th>\n",
       "      <th>SG_artist_score</th>\n",
       "    </tr>\n",
       "  </thead>\n",
       "  <tbody>\n",
       "    <tr>\n",
       "      <th>0</th>\n",
       "      <td>157</td>\n",
       "      <td>Taylor Swift</td>\n",
       "      <td>5703387</td>\n",
       "      <td>Pop</td>\n",
       "      <td>0.88</td>\n",
       "    </tr>\n",
       "    <tr>\n",
       "      <th>1</th>\n",
       "      <td>190899</td>\n",
       "      <td>Ed Sheeran</td>\n",
       "      <td>4293012</td>\n",
       "      <td>Pop</td>\n",
       "      <td>0.87</td>\n",
       "    </tr>\n",
       "    <tr>\n",
       "      <th>2</th>\n",
       "      <td>289995</td>\n",
       "      <td>Charli XCX</td>\n",
       "      <td>643712</td>\n",
       "      <td>Pop</td>\n",
       "      <td>0.87</td>\n",
       "    </tr>\n",
       "    <tr>\n",
       "      <th>3</th>\n",
       "      <td>46025</td>\n",
       "      <td>\"Honda Civic Tour\"</td>\n",
       "      <td>899</td>\n",
       "      <td>NaN</td>\n",
       "      <td>NaN</td>\n",
       "    </tr>\n",
       "    <tr>\n",
       "      <th>4</th>\n",
       "      <td>2639</td>\n",
       "      <td>Eric Clapton</td>\n",
       "      <td>1388530</td>\n",
       "      <td>Classic Rock</td>\n",
       "      <td>0.86</td>\n",
       "    </tr>\n",
       "  </tbody>\n",
       "</table>\n",
       "</div>"
      ],
      "text/plain": [
       "  BIT_artist_id     BIT_artist_name BIT_tracker_count         genre  \\\n",
       "0           157        Taylor Swift           5703387           Pop   \n",
       "1        190899          Ed Sheeran           4293012           Pop   \n",
       "2        289995          Charli XCX            643712           Pop   \n",
       "3         46025  \"Honda Civic Tour\"               899           NaN   \n",
       "4          2639        Eric Clapton           1388530  Classic Rock   \n",
       "\n",
       "   SG_artist_score  \n",
       "0             0.88  \n",
       "1             0.87  \n",
       "2             0.87  \n",
       "3              NaN  \n",
       "4             0.86  "
      ]
     },
     "execution_count": 8,
     "metadata": {},
     "output_type": "execute_result"
    }
   ],
   "source": [
    "all_artist_df.drop(['name', 'id'], axis=1, inplace=True)\n",
    "all_artist_df.rename(columns={'score':'SG_artist_score'}, inplace=True)\n",
    "all_artist_df = all_artist_df.drop_duplicates(['BIT_artist_id'])\n",
    "print(all_artist_df.shape)\n",
    "all_artist_df.head()"
   ]
  },
  {
   "cell_type": "code",
   "execution_count": 9,
   "metadata": {},
   "outputs": [
    {
     "data": {
      "text/plain": [
       "BIT_artist_id           0\n",
       "BIT_artist_name         0\n",
       "BIT_tracker_count       0\n",
       "genre                4427\n",
       "SG_artist_score      4427\n",
       "dtype: int64"
      ]
     },
     "execution_count": 9,
     "metadata": {},
     "output_type": "execute_result"
    }
   ],
   "source": [
    "all_artist_df.isna().sum()"
   ]
  },
  {
   "cell_type": "markdown",
   "metadata": {},
   "source": [
    "Looks like some of these aren't really artists, including \"Honda Civic Tour\" -- let's drop them. After dropping those, I can convert the artist ID to an integer to prepare for the merge."
   ]
  },
  {
   "cell_type": "code",
   "execution_count": 10,
   "metadata": {},
   "outputs": [
    {
     "data": {
      "text/plain": [
       "(33796, 5)"
      ]
     },
     "execution_count": 10,
     "metadata": {},
     "output_type": "execute_result"
    }
   ],
   "source": [
    "all_artist_df = all_artist_df.dropna()\n",
    "all_artist_df.shape"
   ]
  },
  {
   "cell_type": "code",
   "execution_count": 11,
   "metadata": {},
   "outputs": [],
   "source": [
    "all_artist_df = all_artist_df.astype({\"BIT_artist_id\": int})"
   ]
  },
  {
   "cell_type": "markdown",
   "metadata": {},
   "source": [
    "# Second Merge -- Combine Artist and Gig Information\n",
    "\n",
    "Next I'll merge the gig information into the combined artist information. The Bandsintown artist ID is present in each file and is used to connect gig information to the associated artist."
   ]
  },
  {
   "cell_type": "code",
   "execution_count": 12,
   "metadata": {},
   "outputs": [
    {
     "data": {
      "text/html": [
       "<div>\n",
       "<style scoped>\n",
       "    .dataframe tbody tr th:only-of-type {\n",
       "        vertical-align: middle;\n",
       "    }\n",
       "\n",
       "    .dataframe tbody tr th {\n",
       "        vertical-align: top;\n",
       "    }\n",
       "\n",
       "    .dataframe thead th {\n",
       "        text-align: right;\n",
       "    }\n",
       "</style>\n",
       "<table border=\"1\" class=\"dataframe\">\n",
       "  <thead>\n",
       "    <tr style=\"text-align: right;\">\n",
       "      <th></th>\n",
       "      <th>BIT_artist_id</th>\n",
       "      <th>BIT_event_date</th>\n",
       "      <th>BIT_event_id</th>\n",
       "      <th>BIT_venue_city</th>\n",
       "      <th>BIT_venue_country</th>\n",
       "      <th>BIT_venue_name</th>\n",
       "      <th>BIT_venue_state</th>\n",
       "    </tr>\n",
       "  </thead>\n",
       "  <tbody>\n",
       "    <tr>\n",
       "      <th>0</th>\n",
       "      <td>157</td>\n",
       "      <td>2013-04-10T19:00:00</td>\n",
       "      <td>5727347</td>\n",
       "      <td>Miami</td>\n",
       "      <td>United States</td>\n",
       "      <td>AmericanAirlines Arena</td>\n",
       "      <td>FL</td>\n",
       "    </tr>\n",
       "    <tr>\n",
       "      <th>1</th>\n",
       "      <td>157</td>\n",
       "      <td>2013-04-11T19:00:00</td>\n",
       "      <td>5821019</td>\n",
       "      <td>Orlando</td>\n",
       "      <td>United States</td>\n",
       "      <td>Amway Center</td>\n",
       "      <td>FL</td>\n",
       "    </tr>\n",
       "    <tr>\n",
       "      <th>2</th>\n",
       "      <td>157</td>\n",
       "      <td>2013-04-12T19:00:00</td>\n",
       "      <td>5821020</td>\n",
       "      <td>Orlando</td>\n",
       "      <td>United States</td>\n",
       "      <td>Amway Center</td>\n",
       "      <td>FL</td>\n",
       "    </tr>\n",
       "    <tr>\n",
       "      <th>3</th>\n",
       "      <td>157</td>\n",
       "      <td>2013-04-18T19:00:00</td>\n",
       "      <td>5691280</td>\n",
       "      <td>Atlanta</td>\n",
       "      <td>United States</td>\n",
       "      <td>Philips Arena</td>\n",
       "      <td>GA</td>\n",
       "    </tr>\n",
       "    <tr>\n",
       "      <th>4</th>\n",
       "      <td>157</td>\n",
       "      <td>2013-04-19T19:00:00</td>\n",
       "      <td>5691281</td>\n",
       "      <td>Atlanta</td>\n",
       "      <td>United States</td>\n",
       "      <td>Philips Arena</td>\n",
       "      <td>GA</td>\n",
       "    </tr>\n",
       "  </tbody>\n",
       "</table>\n",
       "</div>"
      ],
      "text/plain": [
       "   BIT_artist_id       BIT_event_date  BIT_event_id BIT_venue_city  \\\n",
       "0            157  2013-04-10T19:00:00       5727347          Miami   \n",
       "1            157  2013-04-11T19:00:00       5821019        Orlando   \n",
       "2            157  2013-04-12T19:00:00       5821020        Orlando   \n",
       "3            157  2013-04-18T19:00:00       5691280        Atlanta   \n",
       "4            157  2013-04-19T19:00:00       5691281        Atlanta   \n",
       "\n",
       "  BIT_venue_country          BIT_venue_name BIT_venue_state  \n",
       "0     United States  AmericanAirlines Arena              FL  \n",
       "1     United States            Amway Center              FL  \n",
       "2     United States            Amway Center              FL  \n",
       "3     United States           Philips Arena              GA  \n",
       "4     United States           Philips Arena              GA  "
      ]
     },
     "execution_count": 12,
     "metadata": {},
     "output_type": "execute_result"
    }
   ],
   "source": [
    "gig_df = pd.read_csv(\"all_gigs.csv\")\n",
    "gig_df.drop(['Unnamed: 0'], axis=1, inplace=True)\n",
    "gig_df.head()"
   ]
  },
  {
   "cell_type": "code",
   "execution_count": 13,
   "metadata": {},
   "outputs": [
    {
     "name": "stdout",
     "output_type": "stream",
     "text": [
      "(2747682, 11)\n"
     ]
    },
    {
     "data": {
      "text/html": [
       "<div>\n",
       "<style scoped>\n",
       "    .dataframe tbody tr th:only-of-type {\n",
       "        vertical-align: middle;\n",
       "    }\n",
       "\n",
       "    .dataframe tbody tr th {\n",
       "        vertical-align: top;\n",
       "    }\n",
       "\n",
       "    .dataframe thead th {\n",
       "        text-align: right;\n",
       "    }\n",
       "</style>\n",
       "<table border=\"1\" class=\"dataframe\">\n",
       "  <thead>\n",
       "    <tr style=\"text-align: right;\">\n",
       "      <th></th>\n",
       "      <th>BIT_artist_id</th>\n",
       "      <th>BIT_event_date</th>\n",
       "      <th>BIT_event_id</th>\n",
       "      <th>BIT_venue_city</th>\n",
       "      <th>BIT_venue_country</th>\n",
       "      <th>BIT_venue_name</th>\n",
       "      <th>BIT_venue_state</th>\n",
       "      <th>BIT_artist_name</th>\n",
       "      <th>BIT_tracker_count</th>\n",
       "      <th>genre</th>\n",
       "      <th>SG_artist_score</th>\n",
       "    </tr>\n",
       "  </thead>\n",
       "  <tbody>\n",
       "    <tr>\n",
       "      <th>0</th>\n",
       "      <td>157</td>\n",
       "      <td>2013-04-10T19:00:00</td>\n",
       "      <td>5727347</td>\n",
       "      <td>Miami</td>\n",
       "      <td>United States</td>\n",
       "      <td>AmericanAirlines Arena</td>\n",
       "      <td>FL</td>\n",
       "      <td>Taylor Swift</td>\n",
       "      <td>5703387</td>\n",
       "      <td>Pop</td>\n",
       "      <td>0.88</td>\n",
       "    </tr>\n",
       "    <tr>\n",
       "      <th>1</th>\n",
       "      <td>157</td>\n",
       "      <td>2013-04-11T19:00:00</td>\n",
       "      <td>5821019</td>\n",
       "      <td>Orlando</td>\n",
       "      <td>United States</td>\n",
       "      <td>Amway Center</td>\n",
       "      <td>FL</td>\n",
       "      <td>Taylor Swift</td>\n",
       "      <td>5703387</td>\n",
       "      <td>Pop</td>\n",
       "      <td>0.88</td>\n",
       "    </tr>\n",
       "    <tr>\n",
       "      <th>2</th>\n",
       "      <td>157</td>\n",
       "      <td>2013-04-12T19:00:00</td>\n",
       "      <td>5821020</td>\n",
       "      <td>Orlando</td>\n",
       "      <td>United States</td>\n",
       "      <td>Amway Center</td>\n",
       "      <td>FL</td>\n",
       "      <td>Taylor Swift</td>\n",
       "      <td>5703387</td>\n",
       "      <td>Pop</td>\n",
       "      <td>0.88</td>\n",
       "    </tr>\n",
       "    <tr>\n",
       "      <th>3</th>\n",
       "      <td>157</td>\n",
       "      <td>2013-04-18T19:00:00</td>\n",
       "      <td>5691280</td>\n",
       "      <td>Atlanta</td>\n",
       "      <td>United States</td>\n",
       "      <td>Philips Arena</td>\n",
       "      <td>GA</td>\n",
       "      <td>Taylor Swift</td>\n",
       "      <td>5703387</td>\n",
       "      <td>Pop</td>\n",
       "      <td>0.88</td>\n",
       "    </tr>\n",
       "    <tr>\n",
       "      <th>4</th>\n",
       "      <td>157</td>\n",
       "      <td>2013-04-19T19:00:00</td>\n",
       "      <td>5691281</td>\n",
       "      <td>Atlanta</td>\n",
       "      <td>United States</td>\n",
       "      <td>Philips Arena</td>\n",
       "      <td>GA</td>\n",
       "      <td>Taylor Swift</td>\n",
       "      <td>5703387</td>\n",
       "      <td>Pop</td>\n",
       "      <td>0.88</td>\n",
       "    </tr>\n",
       "  </tbody>\n",
       "</table>\n",
       "</div>"
      ],
      "text/plain": [
       "   BIT_artist_id       BIT_event_date  BIT_event_id BIT_venue_city  \\\n",
       "0            157  2013-04-10T19:00:00       5727347          Miami   \n",
       "1            157  2013-04-11T19:00:00       5821019        Orlando   \n",
       "2            157  2013-04-12T19:00:00       5821020        Orlando   \n",
       "3            157  2013-04-18T19:00:00       5691280        Atlanta   \n",
       "4            157  2013-04-19T19:00:00       5691281        Atlanta   \n",
       "\n",
       "  BIT_venue_country          BIT_venue_name BIT_venue_state BIT_artist_name  \\\n",
       "0     United States  AmericanAirlines Arena              FL    Taylor Swift   \n",
       "1     United States            Amway Center              FL    Taylor Swift   \n",
       "2     United States            Amway Center              FL    Taylor Swift   \n",
       "3     United States           Philips Arena              GA    Taylor Swift   \n",
       "4     United States           Philips Arena              GA    Taylor Swift   \n",
       "\n",
       "  BIT_tracker_count genre  SG_artist_score  \n",
       "0           5703387   Pop             0.88  \n",
       "1           5703387   Pop             0.88  \n",
       "2           5703387   Pop             0.88  \n",
       "3           5703387   Pop             0.88  \n",
       "4           5703387   Pop             0.88  "
      ]
     },
     "execution_count": 13,
     "metadata": {},
     "output_type": "execute_result"
    }
   ],
   "source": [
    "gigs_artists_df = pd.merge(gig_df, all_artist_df, how='left', validate=\"m:1\")\n",
    "print(gigs_artists_df.shape)\n",
    "gigs_artists_df.head()"
   ]
  },
  {
   "cell_type": "markdown",
   "metadata": {},
   "source": [
    "# Third Merge -- Add Venue Scores to the Combined Artist and Gig Information\n",
    "\n",
    "Finally we'll load in the venue data from SeatGeek and merge the venue popularity scores into each gig. The combined artist and gig information file is a gig-level file, but does not have the SeatGeek venue ID for each gig yet, so I need to merge on each venue's name and state."
   ]
  },
  {
   "cell_type": "code",
   "execution_count": 14,
   "metadata": {},
   "outputs": [
    {
     "data": {
      "text/html": [
       "<div>\n",
       "<style scoped>\n",
       "    .dataframe tbody tr th:only-of-type {\n",
       "        vertical-align: middle;\n",
       "    }\n",
       "\n",
       "    .dataframe tbody tr th {\n",
       "        vertical-align: top;\n",
       "    }\n",
       "\n",
       "    .dataframe thead th {\n",
       "        text-align: right;\n",
       "    }\n",
       "</style>\n",
       "<table border=\"1\" class=\"dataframe\">\n",
       "  <thead>\n",
       "    <tr style=\"text-align: right;\">\n",
       "      <th></th>\n",
       "      <th>sg_venue_id</th>\n",
       "      <th>venue_city</th>\n",
       "      <th>venue_country</th>\n",
       "      <th>venue_name</th>\n",
       "      <th>venue_score</th>\n",
       "      <th>venue_state</th>\n",
       "    </tr>\n",
       "  </thead>\n",
       "  <tbody>\n",
       "    <tr>\n",
       "      <th>0</th>\n",
       "      <td>4965</td>\n",
       "      <td>Arlington</td>\n",
       "      <td>US</td>\n",
       "      <td>AT&amp;T Stadium</td>\n",
       "      <td>0.975141</td>\n",
       "      <td>TX</td>\n",
       "    </tr>\n",
       "    <tr>\n",
       "      <th>1</th>\n",
       "      <td>58670</td>\n",
       "      <td>Santa Clara</td>\n",
       "      <td>US</td>\n",
       "      <td>Levi's Stadium</td>\n",
       "      <td>0.957688</td>\n",
       "      <td>CA</td>\n",
       "    </tr>\n",
       "    <tr>\n",
       "      <th>2</th>\n",
       "      <td>1132</td>\n",
       "      <td>San Francisco</td>\n",
       "      <td>US</td>\n",
       "      <td>Candlestick Park</td>\n",
       "      <td>0.950707</td>\n",
       "      <td>CA</td>\n",
       "    </tr>\n",
       "    <tr>\n",
       "      <th>3</th>\n",
       "      <td>1587</td>\n",
       "      <td>East Rutherford</td>\n",
       "      <td>US</td>\n",
       "      <td>MetLife Stadium</td>\n",
       "      <td>0.948735</td>\n",
       "      <td>NJ</td>\n",
       "    </tr>\n",
       "    <tr>\n",
       "      <th>4</th>\n",
       "      <td>31</td>\n",
       "      <td>Chicago</td>\n",
       "      <td>US</td>\n",
       "      <td>Soldier Field</td>\n",
       "      <td>0.940013</td>\n",
       "      <td>IL</td>\n",
       "    </tr>\n",
       "  </tbody>\n",
       "</table>\n",
       "</div>"
      ],
      "text/plain": [
       "   sg_venue_id       venue_city venue_country        venue_name  venue_score  \\\n",
       "0         4965        Arlington            US      AT&T Stadium     0.975141   \n",
       "1        58670      Santa Clara            US    Levi's Stadium     0.957688   \n",
       "2         1132    San Francisco            US  Candlestick Park     0.950707   \n",
       "3         1587  East Rutherford            US   MetLife Stadium     0.948735   \n",
       "4           31          Chicago            US     Soldier Field     0.940013   \n",
       "\n",
       "  venue_state  \n",
       "0          TX  \n",
       "1          CA  \n",
       "2          CA  \n",
       "3          NJ  \n",
       "4          IL  "
      ]
     },
     "execution_count": 14,
     "metadata": {},
     "output_type": "execute_result"
    }
   ],
   "source": [
    "SG_venue_df = pd.read_csv(\"sg_venues.csv\")\n",
    "SG_venue_df.drop(['Unnamed: 0'], axis=1, inplace=True)\n",
    "SG_venue_df.head()"
   ]
  },
  {
   "cell_type": "code",
   "execution_count": 15,
   "metadata": {},
   "outputs": [
    {
     "name": "stdout",
     "output_type": "stream",
     "text": [
      "(2963474, 17)\n"
     ]
    },
    {
     "data": {
      "text/html": [
       "<div>\n",
       "<style scoped>\n",
       "    .dataframe tbody tr th:only-of-type {\n",
       "        vertical-align: middle;\n",
       "    }\n",
       "\n",
       "    .dataframe tbody tr th {\n",
       "        vertical-align: top;\n",
       "    }\n",
       "\n",
       "    .dataframe thead th {\n",
       "        text-align: right;\n",
       "    }\n",
       "</style>\n",
       "<table border=\"1\" class=\"dataframe\">\n",
       "  <thead>\n",
       "    <tr style=\"text-align: right;\">\n",
       "      <th></th>\n",
       "      <th>BIT_artist_id</th>\n",
       "      <th>BIT_event_date</th>\n",
       "      <th>BIT_event_id</th>\n",
       "      <th>BIT_venue_city</th>\n",
       "      <th>BIT_venue_country</th>\n",
       "      <th>BIT_venue_name</th>\n",
       "      <th>BIT_venue_state</th>\n",
       "      <th>BIT_artist_name</th>\n",
       "      <th>BIT_tracker_count</th>\n",
       "      <th>genre</th>\n",
       "      <th>SG_artist_score</th>\n",
       "      <th>sg_venue_id</th>\n",
       "      <th>venue_city</th>\n",
       "      <th>venue_country</th>\n",
       "      <th>venue_name</th>\n",
       "      <th>venue_score</th>\n",
       "      <th>venue_state</th>\n",
       "    </tr>\n",
       "  </thead>\n",
       "  <tbody>\n",
       "    <tr>\n",
       "      <th>0</th>\n",
       "      <td>157</td>\n",
       "      <td>2013-04-10T19:00:00</td>\n",
       "      <td>5727347</td>\n",
       "      <td>Miami</td>\n",
       "      <td>United States</td>\n",
       "      <td>AmericanAirlines Arena</td>\n",
       "      <td>FL</td>\n",
       "      <td>Taylor Swift</td>\n",
       "      <td>5703387</td>\n",
       "      <td>Pop</td>\n",
       "      <td>0.88</td>\n",
       "      <td>183.0</td>\n",
       "      <td>Miami</td>\n",
       "      <td>US</td>\n",
       "      <td>AmericanAirlines Arena</td>\n",
       "      <td>0.841048</td>\n",
       "      <td>FL</td>\n",
       "    </tr>\n",
       "    <tr>\n",
       "      <th>1</th>\n",
       "      <td>157</td>\n",
       "      <td>2013-04-11T19:00:00</td>\n",
       "      <td>5821019</td>\n",
       "      <td>Orlando</td>\n",
       "      <td>United States</td>\n",
       "      <td>Amway Center</td>\n",
       "      <td>FL</td>\n",
       "      <td>Taylor Swift</td>\n",
       "      <td>5703387</td>\n",
       "      <td>Pop</td>\n",
       "      <td>0.88</td>\n",
       "      <td>2652.0</td>\n",
       "      <td>Orlando</td>\n",
       "      <td>US</td>\n",
       "      <td>Amway Center</td>\n",
       "      <td>0.752291</td>\n",
       "      <td>FL</td>\n",
       "    </tr>\n",
       "    <tr>\n",
       "      <th>2</th>\n",
       "      <td>157</td>\n",
       "      <td>2013-04-12T19:00:00</td>\n",
       "      <td>5821020</td>\n",
       "      <td>Orlando</td>\n",
       "      <td>United States</td>\n",
       "      <td>Amway Center</td>\n",
       "      <td>FL</td>\n",
       "      <td>Taylor Swift</td>\n",
       "      <td>5703387</td>\n",
       "      <td>Pop</td>\n",
       "      <td>0.88</td>\n",
       "      <td>2652.0</td>\n",
       "      <td>Orlando</td>\n",
       "      <td>US</td>\n",
       "      <td>Amway Center</td>\n",
       "      <td>0.752291</td>\n",
       "      <td>FL</td>\n",
       "    </tr>\n",
       "    <tr>\n",
       "      <th>3</th>\n",
       "      <td>157</td>\n",
       "      <td>2013-04-18T19:00:00</td>\n",
       "      <td>5691280</td>\n",
       "      <td>Atlanta</td>\n",
       "      <td>United States</td>\n",
       "      <td>Philips Arena</td>\n",
       "      <td>GA</td>\n",
       "      <td>Taylor Swift</td>\n",
       "      <td>5703387</td>\n",
       "      <td>Pop</td>\n",
       "      <td>0.88</td>\n",
       "      <td>NaN</td>\n",
       "      <td>NaN</td>\n",
       "      <td>NaN</td>\n",
       "      <td>NaN</td>\n",
       "      <td>NaN</td>\n",
       "      <td>NaN</td>\n",
       "    </tr>\n",
       "    <tr>\n",
       "      <th>4</th>\n",
       "      <td>157</td>\n",
       "      <td>2013-04-19T19:00:00</td>\n",
       "      <td>5691281</td>\n",
       "      <td>Atlanta</td>\n",
       "      <td>United States</td>\n",
       "      <td>Philips Arena</td>\n",
       "      <td>GA</td>\n",
       "      <td>Taylor Swift</td>\n",
       "      <td>5703387</td>\n",
       "      <td>Pop</td>\n",
       "      <td>0.88</td>\n",
       "      <td>NaN</td>\n",
       "      <td>NaN</td>\n",
       "      <td>NaN</td>\n",
       "      <td>NaN</td>\n",
       "      <td>NaN</td>\n",
       "      <td>NaN</td>\n",
       "    </tr>\n",
       "  </tbody>\n",
       "</table>\n",
       "</div>"
      ],
      "text/plain": [
       "   BIT_artist_id       BIT_event_date  BIT_event_id BIT_venue_city  \\\n",
       "0            157  2013-04-10T19:00:00       5727347          Miami   \n",
       "1            157  2013-04-11T19:00:00       5821019        Orlando   \n",
       "2            157  2013-04-12T19:00:00       5821020        Orlando   \n",
       "3            157  2013-04-18T19:00:00       5691280        Atlanta   \n",
       "4            157  2013-04-19T19:00:00       5691281        Atlanta   \n",
       "\n",
       "  BIT_venue_country          BIT_venue_name BIT_venue_state BIT_artist_name  \\\n",
       "0     United States  AmericanAirlines Arena              FL    Taylor Swift   \n",
       "1     United States            Amway Center              FL    Taylor Swift   \n",
       "2     United States            Amway Center              FL    Taylor Swift   \n",
       "3     United States           Philips Arena              GA    Taylor Swift   \n",
       "4     United States           Philips Arena              GA    Taylor Swift   \n",
       "\n",
       "  BIT_tracker_count genre  SG_artist_score  sg_venue_id venue_city  \\\n",
       "0           5703387   Pop             0.88        183.0      Miami   \n",
       "1           5703387   Pop             0.88       2652.0    Orlando   \n",
       "2           5703387   Pop             0.88       2652.0    Orlando   \n",
       "3           5703387   Pop             0.88          NaN        NaN   \n",
       "4           5703387   Pop             0.88          NaN        NaN   \n",
       "\n",
       "  venue_country              venue_name  venue_score venue_state  \n",
       "0            US  AmericanAirlines Arena     0.841048          FL  \n",
       "1            US            Amway Center     0.752291          FL  \n",
       "2            US            Amway Center     0.752291          FL  \n",
       "3           NaN                     NaN          NaN         NaN  \n",
       "4           NaN                     NaN          NaN         NaN  "
      ]
     },
     "execution_count": 15,
     "metadata": {},
     "output_type": "execute_result"
    }
   ],
   "source": [
    "gigs_artists_venues_df = pd.merge(gigs_artists_df, SG_venue_df, how='left', \n",
    "                                  left_on=['BIT_venue_name', 'BIT_venue_state'],\n",
    "                                  right_on=['venue_name', 'venue_state'],\n",
    "                                  validate=\"m:m\")\n",
    "print(gigs_artists_venues_df.shape)\n",
    "gigs_artists_venues_df.head()"
   ]
  },
  {
   "cell_type": "markdown",
   "metadata": {},
   "source": [
    "# Cleaning the Final Merged File\n",
    "\n",
    "First I'm going to drop any rows with missing values since that indicates a failed match, then I'll check to see if any non-US shows remain in the merged file, because I'm modeling shows in US cities only."
   ]
  },
  {
   "cell_type": "code",
   "execution_count": 16,
   "metadata": {},
   "outputs": [
    {
     "data": {
      "text/plain": [
       "BIT_artist_id              0\n",
       "BIT_event_date             0\n",
       "BIT_event_id               0\n",
       "BIT_venue_city           138\n",
       "BIT_venue_country        157\n",
       "BIT_venue_name             5\n",
       "BIT_venue_state       883124\n",
       "BIT_artist_name       369374\n",
       "BIT_tracker_count     369374\n",
       "genre                 369374\n",
       "SG_artist_score       369374\n",
       "sg_venue_id          1795967\n",
       "venue_city           1795978\n",
       "venue_country        1796307\n",
       "venue_name           1795967\n",
       "venue_score          1795967\n",
       "venue_state          1796012\n",
       "dtype: int64"
      ]
     },
     "execution_count": 16,
     "metadata": {},
     "output_type": "execute_result"
    }
   ],
   "source": [
    "gigs_artists_venues_df.isna().sum()"
   ]
  },
  {
   "cell_type": "code",
   "execution_count": 17,
   "metadata": {},
   "outputs": [
    {
     "data": {
      "text/plain": [
       "(1021395, 17)"
      ]
     },
     "execution_count": 17,
     "metadata": {},
     "output_type": "execute_result"
    }
   ],
   "source": [
    "gigs_artists_venues_df = gigs_artists_venues_df.dropna()\n",
    "gigs_artists_venues_df.shape"
   ]
  },
  {
   "cell_type": "markdown",
   "metadata": {},
   "source": [
    "It looks like we're already set on the US-only shows based on my merge specs and inputs."
   ]
  },
  {
   "cell_type": "code",
   "execution_count": 18,
   "metadata": {},
   "outputs": [
    {
     "data": {
      "text/plain": [
       "United States               1018584\n",
       "United States of America       1968\n",
       "USA                             798\n",
       "US                               35\n",
       "Usa                               4\n",
       "Us                                4\n",
       "us                                1\n",
       "UNITED STATES                     1\n",
       "Name: BIT_venue_country, dtype: int64"
      ]
     },
     "execution_count": 18,
     "metadata": {},
     "output_type": "execute_result"
    }
   ],
   "source": [
    "gigs_artists_venues_df['BIT_venue_country'].value_counts()"
   ]
  },
  {
   "cell_type": "markdown",
   "metadata": {},
   "source": [
    "Note that there are a lot of venue API calls that failed (these have a venue score of zero) due to inconsistencies in venue names, which could be cleaned up -- however, while I'm familiar enough with Chicago venues to do this in a reasonable amount of time, this would be very time-consuming across other locations.\n",
    "\n",
    "That said, not all of the zero-score venues are incorrect -- below is a list of all zero-score venues in our database (which I'll then drop). Some are clearly correct, such as private shows and living room/house shows, and others, like Coachella and Lincoln Hall, just didn't show up in the SeatGeek venue database due to spelling variations. This is a target for future cleaning, but will be time-consuming."
   ]
  },
  {
   "cell_type": "code",
   "execution_count": 19,
   "metadata": {},
   "outputs": [
    {
     "data": {
      "text/plain": [
       "Private                                       11171\n",
       "House Show                                     5129\n",
       "First Baptist Church                           3840\n",
       "Living Room Show                               3392\n",
       "First Avenue                                   2416\n",
       "Iridium                                        2312\n",
       "The Social                                     2256\n",
       "Black Sheep                                    2032\n",
       "The Catalyst                                   1968\n",
       "The Fillmore Charlotte                         1863\n",
       "The Loft                                       1802\n",
       "Beacon Theatre                                 1744\n",
       "Grand Ole Opry                                 1725\n",
       "The Basement                                   1681\n",
       "Birdland                                       1610\n",
       "Cat's Cradle                                   1597\n",
       "Club Congress                                  1580\n",
       "Coachella                                      1580\n",
       "The Fillmore                                   1562\n",
       "3rd & Lindsley                                 1561\n",
       "Jannus Live                                    1554\n",
       "The Masquerade                                 1551\n",
       "Jazz Standard                                  1391\n",
       "The Warehouse                                  1381\n",
       "Wild Wing Cafe                                 1347\n",
       "Paradise Rock Club                             1335\n",
       "The Foundry                                    1311\n",
       "The Chapel                                     1297\n",
       "Kingston Mines                                 1292\n",
       "Lincoln Hall                                   1201\n",
       "                                              ...  \n",
       "The Fowler Center                                 1\n",
       "Stax Music Academy                                1\n",
       "Tulsa Roots Rocks the Green                       1\n",
       "Camp WOW                                          1\n",
       "Meredith College                                  1\n",
       "The Parish                                        1\n",
       "Brazos Lounge                                     1\n",
       "The Yarden                                        1\n",
       "Willow Creek Lounge                               1\n",
       "Bright Lights                                     1\n",
       "Festival on the Square                            1\n",
       "Hoover YMCA Park                                  1\n",
       "Coffee Pot                                        1\n",
       "Franco Center                                     1\n",
       "Josh of Yellowcard & Alex of Mayday Parade        1\n",
       "Nasty's                                           1\n",
       "Littleton High School                             1\n",
       "Camp Westmont                                     1\n",
       "Steeple Center                                    1\n",
       "Antioch M.B. Church Of Miami Gardern              1\n",
       "Yard Stock V                                      1\n",
       "Saint Luke's Church                               1\n",
       "Indy 500                                          1\n",
       "Microsoft Store                                   1\n",
       "Contemporary Jewish Museum                        1\n",
       "Lafayette Theater & Events Center                 1\n",
       "Drai's Yacht Club                                 1\n",
       "Tapout                                            1\n",
       "BJ Ryan's                                         1\n",
       "99.9 Gator Country Concert Series                 1\n",
       "Name: venue_name, Length: 33920, dtype: int64"
      ]
     },
     "execution_count": 19,
     "metadata": {},
     "output_type": "execute_result"
    }
   ],
   "source": [
    "gigs_artists_venues_df.loc[(gigs_artists_venues_df['venue_score'] == 0)]['venue_name'].value_counts()"
   ]
  },
  {
   "cell_type": "code",
   "execution_count": 20,
   "metadata": {},
   "outputs": [
    {
     "data": {
      "text/plain": [
       "(518342, 17)"
      ]
     },
     "execution_count": 20,
     "metadata": {},
     "output_type": "execute_result"
    }
   ],
   "source": [
    "gigs_artists_venues_df = gigs_artists_venues_df.loc[(gigs_artists_venues_df['venue_score'] > 0)]\n",
    "gigs_artists_venues_df.shape"
   ]
  },
  {
   "cell_type": "markdown",
   "metadata": {},
   "source": [
    "# Saving the Final Combined File"
   ]
  },
  {
   "cell_type": "code",
   "execution_count": 21,
   "metadata": {},
   "outputs": [],
   "source": [
    "gigs_artists_venues_df.to_csv('merged_data.csv')"
   ]
  }
 ],
 "metadata": {
  "kernelspec": {
   "display_name": "Python 3",
   "language": "python",
   "name": "python3"
  },
  "language_info": {
   "codemirror_mode": {
    "name": "ipython",
    "version": 3
   },
   "file_extension": ".py",
   "mimetype": "text/x-python",
   "name": "python",
   "nbconvert_exporter": "python",
   "pygments_lexer": "ipython3",
   "version": "3.6.6"
  },
  "toc": {
   "base_numbering": 1,
   "nav_menu": {},
   "number_sections": true,
   "sideBar": true,
   "skip_h1_title": false,
   "title_cell": "Table of Contents",
   "title_sidebar": "Contents",
   "toc_cell": false,
   "toc_position": {},
   "toc_section_display": true,
   "toc_window_display": false
  },
  "varInspector": {
   "cols": {
    "lenName": 16,
    "lenType": 16,
    "lenVar": 40
   },
   "kernels_config": {
    "python": {
     "delete_cmd_postfix": "",
     "delete_cmd_prefix": "del ",
     "library": "var_list.py",
     "varRefreshCmd": "print(var_dic_list())"
    },
    "r": {
     "delete_cmd_postfix": ") ",
     "delete_cmd_prefix": "rm(",
     "library": "var_list.r",
     "varRefreshCmd": "cat(var_dic_list()) "
    }
   },
   "types_to_exclude": [
    "module",
    "function",
    "builtin_function_or_method",
    "instance",
    "_Feature"
   ],
   "window_display": false
  }
 },
 "nbformat": 4,
 "nbformat_minor": 2
}
